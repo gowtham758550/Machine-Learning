{
  "nbformat": 4,
  "nbformat_minor": 0,
  "metadata": {
    "colab": {
      "name": "ml hello world.ipynb2",
      "provenance": [],
      "collapsed_sections": [],
      "authorship_tag": "ABX9TyM10/IzXQ7uS4PexmZgEla4",
      "include_colab_link": true
    },
    "kernelspec": {
      "name": "python3",
      "display_name": "Python 3"
    }
  },
  "cells": [
    {
      "cell_type": "markdown",
      "metadata": {
        "id": "view-in-github",
        "colab_type": "text"
      },
      "source": [
        "<a href=\"https://colab.research.google.com/github/gowtham758550/Machine-Learning/blob/main/ml_hello_world.ipynb\" target=\"_parent\"><img src=\"https://colab.research.google.com/assets/colab-badge.svg\" alt=\"Open In Colab\"/></a>"
      ]
    },
    {
      "cell_type": "code",
      "metadata": {
        "colab": {
          "base_uri": "https://localhost:8080/"
        },
        "id": "PxpJCHb-2B6M",
        "outputId": "d67c25d1-048f-4756-8c39-c145aba73891"
      },
      "source": [
        "!pip install scikit-learn"
      ],
      "execution_count": null,
      "outputs": [
        {
          "output_type": "stream",
          "text": [
            "Requirement already satisfied: scikit-learn in /usr/local/lib/python3.6/dist-packages (0.22.2.post1)\n",
            "Requirement already satisfied: joblib>=0.11 in /usr/local/lib/python3.6/dist-packages (from scikit-learn) (0.17.0)\n",
            "Requirement already satisfied: scipy>=0.17.0 in /usr/local/lib/python3.6/dist-packages (from scikit-learn) (1.4.1)\n",
            "Requirement already satisfied: numpy>=1.11.0 in /usr/local/lib/python3.6/dist-packages (from scikit-learn) (1.18.5)\n"
          ],
          "name": "stdout"
        }
      ]
    },
    {
      "cell_type": "code",
      "metadata": {
        "colab": {
          "base_uri": "https://localhost:8080/"
        },
        "id": "YpKI3IJx2MSo",
        "outputId": "0e9ccae3-6369-4c62-d3bf-da129b24d95a"
      },
      "source": [
        "from sklearn import tree\n",
        " \n",
        "#features weight in grams and texture of fruits\n",
        "features = [[140, 1], [130, 1], [150, 0], [170, 0]]\n",
        " \n",
        "#label 0 for apple and 1 for orange\n",
        "label = [0, 0, 1, 1]\n",
        " \n",
        "#Decision tree classifier \n",
        "classifier = tree.DecisionTreeClassifier()\n",
        " \n",
        "#fit the datas for training\n",
        "classifier = classifier.fit(features, label)\n",
        " \n",
        "#predict the label for new values\n",
        "print(classifier.predict([[120, 1], [145, 0]]))"
      ],
      "execution_count": null,
      "outputs": [
        {
          "output_type": "stream",
          "text": [
            "[0 0]\n"
          ],
          "name": "stdout"
        }
      ]
    }
  ]
}